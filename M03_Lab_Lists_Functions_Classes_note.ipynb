{
 "cells": [
  {
   "cell_type": "code",
   "execution_count": 1,
   "id": "f76f9e5d",
   "metadata": {},
   "outputs": [
    {
     "name": "stdout",
     "output_type": "stream",
     "text": [
      "Enter the type of vehicle (car, truck, plane, boat, broomstick): car\n",
      "Enter the year of the car: 2021\n",
      "Enter the make of the car: mazda\n",
      "Enter the model of the car: cx-3\n",
      "Enter the number of doors (2 or 4): 4\n",
      "Enter the type of roof (solid or sun roof): solid\n",
      "Vehicle type: car\n",
      "Year: 2021\n",
      "Make: mazda\n",
      "Model: cx-3\n",
      "Number of doors: 4\n",
      "Type of roof: solid\n"
     ]
    }
   ],
   "source": [
    "class Vehicle:\n",
    "    def __init__(self, vehicle_type):\n",
    "        self.vehicle_type = vehicle_type\n",
    "\n",
    "class Automobile(Vehicle):\n",
    "    def __init__(self, vehicle_type, year, make, model, doors, roof):\n",
    "        super().__init__(vehicle_type)\n",
    "        self.year = year\n",
    "        self.make = make\n",
    "        self.model = model\n",
    "        self.doors = doors\n",
    "        self.roof = roof\n",
    "\n",
    "car_type = input(\"Enter the type of vehicle (car, truck, plane, boat, broomstick): \")\n",
    "year = input(\"Enter the year of the car: \")\n",
    "make = input(\"Enter the make of the car: \")\n",
    "model = input(\"Enter the model of the car: \")\n",
    "doors = input(\"Enter the number of doors (2 or 4): \")\n",
    "roof = input(\"Enter the type of roof (solid or sun roof): \")\n",
    "\n",
    "car = Automobile(car_type, year, make, model, doors, roof)\n",
    "\n",
    "print(\"Vehicle type:\", car.vehicle_type)\n",
    "print(\"Year:\", car.year)\n",
    "print(\"Make:\", car.make)\n",
    "print(\"Model:\", car.model)\n",
    "print(\"Number of doors:\", car.doors)\n",
    "print(\"Type of roof:\", car.roof)\n"
   ]
  },
  {
   "cell_type": "code",
   "execution_count": null,
   "id": "e8a69800",
   "metadata": {},
   "outputs": [],
   "source": []
  }
 ],
 "metadata": {
  "kernelspec": {
   "display_name": "Python 3 (ipykernel)",
   "language": "python",
   "name": "python3"
  },
  "language_info": {
   "codemirror_mode": {
    "name": "ipython",
    "version": 3
   },
   "file_extension": ".py",
   "mimetype": "text/x-python",
   "name": "python",
   "nbconvert_exporter": "python",
   "pygments_lexer": "ipython3",
   "version": "3.9.13"
  }
 },
 "nbformat": 4,
 "nbformat_minor": 5
}
